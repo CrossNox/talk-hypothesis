{
 "cells": [
  {
   "cell_type": "markdown",
   "metadata": {
    "slideshow": {
     "slide_type": "slide"
    }
   },
   "source": [
    "# hypothesis - property based testing"
   ]
  },
  {
   "cell_type": "markdown",
   "metadata": {
    "slideshow": {
     "slide_type": "slide"
    }
   },
   "source": [
    "## quick recap - unit testing"
   ]
  },
  {
   "cell_type": "markdown",
   "metadata": {
    "slideshow": {
     "slide_type": "fragment"
    }
   },
   "source": [
    "- unit"
   ]
  },
  {
   "cell_type": "markdown",
   "metadata": {
    "slideshow": {
     "slide_type": "fragment"
    }
   },
   "source": [
    "- written by programmers"
   ]
  },
  {
   "cell_type": "markdown",
   "metadata": {
    "slideshow": {
     "slide_type": "fragment"
    }
   },
   "source": [
    "- fast"
   ]
  },
  {
   "cell_type": "markdown",
   "metadata": {
    "slideshow": {
     "slide_type": "fragment"
    }
   },
   "source": [
    "[Unit test - Post by Martin Fowler](https://www.martinfowler.com/bliki/UnitTest.html)"
   ]
  },
  {
   "cell_type": "markdown",
   "metadata": {
    "slideshow": {
     "slide_type": "slide"
    }
   },
   "source": [
    "## pytest demo - [01_test_code_add.py](01_test_code_add.py)"
   ]
  },
  {
   "cell_type": "markdown",
   "metadata": {
    "slideshow": {
     "slide_type": "fragment"
    }
   },
   "source": [
    "- ill defined tests"
   ]
  },
  {
   "cell_type": "markdown",
   "metadata": {
    "slideshow": {
     "slide_type": "fragment"
    }
   },
   "source": [
    "- repeated code"
   ]
  },
  {
   "cell_type": "markdown",
   "metadata": {
    "slideshow": {
     "slide_type": "fragment"
    }
   },
   "source": [
    "This is what frameworks are for"
   ]
  },
  {
   "cell_type": "markdown",
   "metadata": {
    "slideshow": {
     "slide_type": "slide"
    }
   },
   "source": [
    "## pytest demo - [02_test_code_add.py](02_test_code_add.py)"
   ]
  },
  {
   "cell_type": "markdown",
   "metadata": {
    "slideshow": {
     "slide_type": "fragment"
    }
   },
   "source": [
    "All tests are passing!"
   ]
  },
  {
   "cell_type": "markdown",
   "metadata": {
    "slideshow": {
     "slide_type": "subslide"
    }
   },
   "source": [
    "# Does it work?"
   ]
  },
  {
   "cell_type": "code",
   "execution_count": 1,
   "metadata": {
    "slideshow": {
     "slide_type": "fragment"
    }
   },
   "outputs": [],
   "source": [
    "def test_add_numbers_zero_and_one():\n",
    "    assert add_numbers(0, 121) == 121"
   ]
  },
  {
   "cell_type": "code",
   "execution_count": 2,
   "metadata": {
    "slideshow": {
     "slide_type": "fragment"
    }
   },
   "outputs": [],
   "source": [
    "def add_numbers(n1, n2):\n",
    "    if (n2 % 11) == 0 and n1 == 0:\n",
    "        return n1\n",
    "    return n1 + n2"
   ]
  },
  {
   "cell_type": "markdown",
   "metadata": {
    "slideshow": {
     "slide_type": "slide"
    }
   },
   "source": [
    "# What should we be testing?"
   ]
  },
  {
   "cell_type": "markdown",
   "metadata": {
    "slideshow": {
     "slide_type": "fragment"
    }
   },
   "source": [
    "The **addition** operator **properties**"
   ]
  },
  {
   "cell_type": "markdown",
   "metadata": {
    "slideshow": {
     "slide_type": "fragment"
    }
   },
   "source": [
    "- Commutativity: $a + b \\equiv b + a$"
   ]
  },
  {
   "cell_type": "markdown",
   "metadata": {
    "slideshow": {
     "slide_type": "fragment"
    }
   },
   "source": [
    "- Associativity: $a + (b + c) \\equiv (a + b) + c$"
   ]
  },
  {
   "cell_type": "markdown",
   "metadata": {
    "slideshow": {
     "slide_type": "fragment"
    }
   },
   "source": [
    "- Identity: $a + 0 = a    $"
   ]
  },
  {
   "cell_type": "code",
   "execution_count": 2,
   "metadata": {
    "slideshow": {
     "slide_type": "subslide"
    }
   },
   "outputs": [],
   "source": [
    "# %load 03_test_add_hypothesis.py\n",
    "from hypothesis import given\n",
    "from hypothesis import strategies as st\n",
    "\n",
    "from code_add import add_numbers\n",
    "\n",
    "\n",
    "@given(st.integers(), st.integers())\n",
    "def test_code_add_commutativity(a, b):\n",
    "    assert add_numbers(a, b) == add_numbers(b, a)\n",
    "\n",
    "\n",
    "@given(st.integers())\n",
    "def test_code_add_identity(a):\n",
    "    assert add_numbers(a, 0) == a\n",
    "\n",
    "\n",
    "@given(st.integers(), st.integers(), st.integers())\n",
    "def test_code_add_associativity(a, b, c):\n",
    "    assert add_numbers(\n",
    "        a,\n",
    "        add_numbers(b, c)\n",
    "    ) == add_numbers(\n",
    "        add_numbers(a, b),\n",
    "        c\n",
    "    )\n"
   ]
  },
  {
   "cell_type": "markdown",
   "metadata": {
    "slideshow": {
     "slide_type": "slide"
    }
   },
   "source": [
    "# hypothesis"
   ]
  },
  {
   "cell_type": "markdown",
   "metadata": {
    "slideshow": {
     "slide_type": "subslide"
    }
   },
   "source": [
    "# [QuickCheck](https://github.com/nick8325/quickcheck)\n",
    "\n",
    "1 - Assertions are written about **logical properties that a function should fulfill**  \n",
    "2 - QuickCheck attempts to **generate** a test case that **falsifies such assertions**  \n",
    "3 - QuickCheck tries to **reduce it to a minimal failing subset** by removing or simplifying input data that are unneeded to make the test fail  \n"
   ]
  },
  {
   "cell_type": "markdown",
   "metadata": {
    "slideshow": {
     "slide_type": "slide"
    }
   },
   "source": [
    "# Property based testing\n",
    "[Hypothesis - what is property based testing?](https://hypothesis.works/articles/what-is-property-based-testing/)\n",
    "\n",
    "> The thing that QuickCheck does"
   ]
  },
  {
   "cell_type": "markdown",
   "metadata": {
    "slideshow": {
     "slide_type": "subslide"
    }
   },
   "source": [
    "## Fuzzy testing\n",
    "\n",
    "### Input\n",
    "- Random\n",
    "- Malformed\n",
    "- Invalid\n",
    "\n",
    "### Output\n",
    "- Crash\n",
    "- Exceptions\n",
    "- Assertions\n",
    "- Memory leaks"
   ]
  },
  {
   "cell_type": "markdown",
   "metadata": {
    "slideshow": {
     "slide_type": "subslide"
    }
   },
   "source": [
    "**End user POV**\n",
    "\n",
    "- A fuzzer\n",
    "- A library of tools for making it easy to construct property-based tests using that fuzzer"
   ]
  },
  {
   "cell_type": "markdown",
   "metadata": {
    "slideshow": {
     "slide_type": "slide"
    }
   },
   "source": [
    "# Dissecting our example"
   ]
  },
  {
   "cell_type": "code",
   "execution_count": 7,
   "metadata": {
    "slideshow": {
     "slide_type": "fragment"
    }
   },
   "outputs": [],
   "source": [
    "from hypothesis import strategies as st"
   ]
  },
  {
   "cell_type": "markdown",
   "metadata": {
    "slideshow": {
     "slide_type": "fragment"
    }
   },
   "source": [
    "> Most things should be easy to generate and everything should be possible.\n",
    "\n",
    "[Hypothesis - what can you generate?](https://hypothesis.readthedocs.io/en/latest/data.html)  "
   ]
  },
  {
   "cell_type": "code",
   "execution_count": 8,
   "metadata": {
    "slideshow": {
     "slide_type": "fragment"
    }
   },
   "outputs": [
    {
     "name": "stdout",
     "output_type": "stream",
     "text": [
      "Help on function integers in module hypothesis.strategies._internal.core:\n",
      "\n",
      "integers(min_value=None, max_value=None)\n",
      "    Returns a strategy which generates integers; in Python 2 these may be\n",
      "    ints or longs.\n",
      "    \n",
      "    If min_value is not None then all values will be >= min_value. If\n",
      "    max_value is not None then all values will be <= max_value\n",
      "    \n",
      "    Examples from this strategy will shrink towards zero, and negative values\n",
      "    will also shrink towards positive (i.e. -n may be replaced by +n).\n",
      "\n"
     ]
    }
   ],
   "source": [
    "help(st.integers)"
   ]
  },
  {
   "cell_type": "code",
   "execution_count": 9,
   "metadata": {
    "slideshow": {
     "slide_type": "slide"
    }
   },
   "outputs": [],
   "source": [
    "from hypothesis import given"
   ]
  },
  {
   "cell_type": "code",
   "execution_count": 10,
   "metadata": {
    "slideshow": {
     "slide_type": "fragment"
    }
   },
   "outputs": [
    {
     "name": "stdout",
     "output_type": "stream",
     "text": [
      "Help on function given in module hypothesis.core:\n",
      "\n",
      "given(*_given_arguments, **_given_kwargs)\n",
      "    A decorator for turning a test function that accepts arguments into a\n",
      "    randomized test.\n",
      "    \n",
      "    This is the main entry point to Hypothesis.\n",
      "\n"
     ]
    }
   ],
   "source": [
    "help(given)"
   ]
  },
  {
   "cell_type": "markdown",
   "metadata": {
    "slideshow": {
     "slide_type": "slide"
    }
   },
   "source": [
    "# the good stuff"
   ]
  },
  {
   "cell_type": "markdown",
   "metadata": {
    "slideshow": {
     "slide_type": "fragment"
    }
   },
   "source": [
    "- pytest integration\n",
    "- strategies for most common types\n",
    "- composite strategy to generate new strategies\n",
    "- compositional shrinking of examples\n",
    "    - [Integrated shrinking on hypothesis](https://hypothesis.works/articles/integrated-shrinking/)  \n",
    "    - [Compositional Shrinking on hypothesis](https://hypothesis.works/articles/compositional-shrinking/)  \n",
    "- a database of failing examples to check regressions\n",
    "    - read this [Anatomy of a Hypothesis Based Test](https://hypothesis.works/articles/anatomy-of-a-test/)\n",
    "- [Hypothesis for the Scientific Stack](https://hypothesis.readthedocs.io/en/latest/numpy.html): pandas/numpy strategies"
   ]
  },
  {
   "cell_type": "markdown",
   "metadata": {
    "slideshow": {
     "slide_type": "slide"
    }
   },
   "source": [
    "# Some cool examples\\*\n",
    "\n",
    "\n",
    "\\* The opinions expressed on this slide are my own and not necessarily those of my employers"
   ]
  },
  {
   "cell_type": "markdown",
   "metadata": {
    "slideshow": {
     "slide_type": "slide"
    }
   },
   "source": [
    "# Sorting\n",
    "\n",
    "- `sort(l) returns a list`\n",
    "- `sorted list has the same elements`\n",
    "- `there is an ordering between elements`\n",
    "- `sorting a sorted list does not change anything`"
   ]
  },
  {
   "cell_type": "markdown",
   "metadata": {
    "slideshow": {
     "slide_type": "fragment"
    }
   },
   "source": [
    "> The more things change, the more they stay the same"
   ]
  },
  {
   "cell_type": "markdown",
   "metadata": {
    "slideshow": {
     "slide_type": "fragment"
    }
   },
   "source": [
    "[Let's see how that looks](04_my_sort.py)"
   ]
  },
  {
   "cell_type": "markdown",
   "metadata": {
    "slideshow": {
     "slide_type": "slide"
    }
   },
   "source": [
    "# There and back again\n",
    "\n",
    "![there and back](images/property_inverse.png)"
   ]
  },
  {
   "cell_type": "markdown",
   "metadata": {
    "slideshow": {
     "slide_type": "fragment"
    }
   },
   "source": [
    "[An example with a binary encoder/decoder](05_binary_encoder.py)"
   ]
  },
  {
   "cell_type": "code",
   "execution_count": 14,
   "metadata": {
    "slideshow": {
     "slide_type": "notes"
    }
   },
   "outputs": [],
   "source": [
    "import pytest\n",
    "\n",
    "examples = [(\"1\", 1), (\"0\", 0), (\"10\", 2), (\"11\", 3), (\"100\", 4)]\n",
    "\n",
    "@pytest.mark.parametrize(\"b,i\", examples)\n",
    "def test_examples(b, i):\n",
    "    assert from_binary(b) == i\n",
    "    assert to_binary(i) == b"
   ]
  },
  {
   "cell_type": "code",
   "execution_count": 15,
   "metadata": {
    "slideshow": {
     "slide_type": "notes"
    }
   },
   "outputs": [],
   "source": [
    "def to_binary(i):\n",
    "    res = []\n",
    "    while i != 0:\n",
    "        i, mod = divmod(i, 2)\n",
    "        res.append(mod)\n",
    "    if len(res) == 0:\n",
    "        res.append(0)\n",
    "    return \"\".join(map(str, res))[::-1]"
   ]
  },
  {
   "cell_type": "markdown",
   "metadata": {
    "slideshow": {
     "slide_type": "slide"
    }
   },
   "source": [
    "# Test oracle\n",
    "\n",
    "![there and back](images/property_test_oracle.png)"
   ]
  },
  {
   "cell_type": "markdown",
   "metadata": {
    "slideshow": {
     "slide_type": "subslide"
    }
   },
   "source": [
    "## The change making problem\n",
    "\n",
    "Let $S = \\{w_1, w_2, \\ldots, w_n \\mid w_i < w_j \\forall i < j, w_i \\in \\Re \\}$ a coin system\n",
    "\n",
    "Let $W \\in \\mathbb{Z}$. \n",
    "\n",
    "$\n",
    "\\begin{equation*}\n",
    "\\begin{aligned}\n",
    "& \\text{minimize}\n",
    "& & \\sum_{j=0}^{n}(x_j) \\\\\n",
    "& \\text{subject to}\n",
    "& & \\sum_{j=0}^{n} w_j x_j = W\n",
    "\\end{aligned}\n",
    "\\end{equation*}\n",
    "$\n",
    "\n",
    "And let $S$ be defined as canonical if $G_r(W,S) = D_p(W,S) \\forall W$ given $S$\n",
    "\n",
    "How can we find a non-canonical system?"
   ]
  },
  {
   "cell_type": "markdown",
   "metadata": {
    "slideshow": {
     "slide_type": "fragment"
    }
   },
   "source": [
    "[Let hypothesis find one for us](06_coins.py)"
   ]
  },
  {
   "cell_type": "markdown",
   "metadata": {
    "slideshow": {
     "slide_type": "slide"
    }
   },
   "source": [
    "# A note on verbosity\n",
    "\n",
    "What examples is hypothesis running?"
   ]
  },
  {
   "cell_type": "markdown",
   "metadata": {
    "slideshow": {
     "slide_type": "fragment"
    }
   },
   "source": [
    "We can see an example with [a prime numbers generator](07_prime_generator.py)"
   ]
  },
  {
   "cell_type": "markdown",
   "metadata": {
    "slideshow": {
     "slide_type": "slide"
    }
   },
   "source": [
    "# Cool readings & resources\n",
    "[Choosing properties for property-based testing](https://fsharpforfunandprofit.com/posts/property-based-testing-2/)  "
   ]
  }
 ],
 "metadata": {
  "kernelspec": {
   "display_name": "Python 3",
   "language": "python",
   "name": "python3"
  },
  "language_info": {
   "codemirror_mode": {
    "name": "ipython",
    "version": 3
   },
   "file_extension": ".py",
   "mimetype": "text/x-python",
   "name": "python",
   "nbconvert_exporter": "python",
   "pygments_lexer": "ipython3",
   "version": "3.7.4"
  }
 },
 "nbformat": 4,
 "nbformat_minor": 4
}
